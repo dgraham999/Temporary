{
 "cells": [
  {
   "cell_type": "code",
   "execution_count": null,
   "metadata": {},
   "outputs": [],
   "source": [
    "import pandas as pd\n",
    "import numpy as np\n",
    "import matplotlib.pyplot as plt\n",
    "import sys\n",
    "from datetime import datetime as dt\n",
    "import os\n",
    "import gc\n",
    "import string\n",
    "import warnings\n",
    "warnings.filterwarnings('ignore')"
   ]
  },
  {
   "cell_type": "code",
   "execution_count": null,
   "metadata": {},
   "outputs": [],
   "source": [
    "from IPython.core.interactiveshell import InteractiveShell\n",
    "InteractiveShell.ast_node_interactivity = \"all\""
   ]
  },
  {
   "cell_type": "code",
   "execution_count": null,
   "metadata": {},
   "outputs": [],
   "source": [
    "#set cell width as percentage of window\n",
    "from IPython.core.display import display, HTML\n",
    "display(HTML(\"<style>.container { width:100% !important; }</style>\"))"
   ]
  },
  {
   "cell_type": "code",
   "execution_count": null,
   "metadata": {},
   "outputs": [],
   "source": [
    "\n",
    "def my_timer(orig_func):\n",
    "    import time\n",
    "\n",
    "    @wraps(orig_func)\n",
    "    def wrapper(*args, **kwargs):\n",
    "        t1 = time.time()\n",
    "        result = orig_func(*args, **kwargs)\n",
    "        t2 = time.time() - t1\n",
    "        print('{} ran in: {} sec'.format(orig_func.__name__, t2))\n",
    "        return result\n",
    "\n",
    "    return wrapper"
   ]
  },
  {
   "cell_type": "code",
   "execution_count": null,
   "metadata": {},
   "outputs": [],
   "source": [
    "def my_logger(orig_func):\n",
    "    import logging\n",
    "    logging.basicConfig(filename='{}.log'.format(orig_func.__name__), level=logging.INFO)\n",
    "\n",
    "    @wraps(orig_func)\n",
    "    def wrapper(*args, **kwargs):\n",
    "        logging.info(\n",
    "            'Ran with args: {}, and kwargs: {}'.format(args, kwargs))\n",
    "        return orig_func(*args, **kwargs)\n",
    "\n",
    "    return wrapper\n",
    "\n"
   ]
  },
  {
   "cell_type": "code",
   "execution_count": null,
   "metadata": {},
   "outputs": [],
   "source": [
    "#function to parallel compute dataframe operations\n",
    "\n",
    "def parallelize_dataframe(df, func, n_cores=4):\n",
    "    df_split = np.array_split(df, n_cores)\n",
    "    pool = Pool(n_cores)\n",
    "    df = pd.concat(pool.map(func, df_split))\n",
    "    pool.close()\n",
    "    pool.join()\n",
    "    return df"
   ]
  },
  {
   "cell_type": "code",
   "execution_count": 1,
   "metadata": {},
   "outputs": [
    {
     "data": {
      "text/plain": [
       "[-0.5, -1.0, 1.0, 0.5]"
      ]
     },
     "execution_count": 1,
     "metadata": {},
     "output_type": "execute_result"
    }
   ],
   "source": [
    "def try_div_itr(itr):\n",
    "    for elem in itr:\n",
    "        try:\n",
    "             yield 1 / elem\n",
    "        except ZeroDivisionError:\n",
    "             pass\n",
    "\n",
    "result = list(try_div_itr([-2, -1, 0, 1, 2]))\n",
    "result"
   ]
  },
  {
   "cell_type": "code",
   "execution_count": null,
   "metadata": {},
   "outputs": [],
   "source": [
    "def try_itr(func, itr, *exceptions, **kwargs):\n",
    "    for elem in itr:\n",
    "        try:\n",
    "            yield func(elem, **kwargs)\n",
    "        except exceptions:\n",
    "            pass"
   ]
  },
  {
   "cell_type": "code",
   "execution_count": null,
   "metadata": {},
   "outputs": [],
   "source": [
    "eggs = (1,3,0,3,2)\n",
    "[1/egg for egg in eggs]#cause division by 0 error\n",
    "def catch(func, handle=lambda e : e, *args, **kwargs):\n",
    "    try:\n",
    "        return func(*args, **kwargs)\n",
    "    except Exception as e:\n",
    "        return handle(e)\n",
    "[catch(lambda : 1/egg) for egg in eggs]\n",
    "[1, 0, ('integer division or modulo by zero'), 0, 0]"
   ]
  },
  {
   "cell_type": "code",
   "execution_count": 3,
   "metadata": {},
   "outputs": [
    {
     "data": {
      "text/plain": [
       "[1, 0, 'integer division or modulo by zero', 0, 0]"
      ]
     },
     "execution_count": 3,
     "metadata": {},
     "output_type": "execute_result"
    }
   ],
   "source": [
    "eggs = (1,3,0,3,2)\n",
    "#[1/egg for egg in eggs]#cause division by 0 error\n",
    "def catch(func, handle=lambda e : e, *args, **kwargs):\n",
    "    try:\n",
    "        return func(*args, **kwargs)\n",
    "    except Exception as e:\n",
    "        return handle(e)\n",
    "[catch(lambda : 1/egg) for egg in eggs]\n",
    "[1, 0, ('integer division or modulo by zero'), 0, 0]"
   ]
  },
  {
   "cell_type": "code",
   "execution_count": null,
   "metadata": {},
   "outputs": [],
   "source": [
    "# fastest method to flatten list of arrays\n",
    "chain = itertools.chain.from_iterable([[1,2],[3],[5,89],[],[6]])\n",
    "print(list(chain))\n",
    "[1, 2, 3, 5, 89, 6]"
   ]
  },
  {
   "cell_type": "code",
   "execution_count": null,
   "metadata": {},
   "outputs": [],
   "source": [
    "#expand to any dtype\n",
    "def check_int(value):\n",
    "    try:\n",
    "        int(value)\n",
    "        return np.NaN\n",
    "    except ValueError:\n",
    "        return value\n",
    "#use in list comprehension to convert dytype == True to nan\n",
    "#dropna on resulting dataframe to find all errors in dtype"
   ]
  },
  {
   "cell_type": "code",
   "execution_count": null,
   "metadata": {},
   "outputs": [],
   "source": [
    "def reduce_memory_usage(df, verbose=True):\n",
    "    numerics = ['int16', 'int32', 'int64', 'float16', 'float32', 'float64']\n",
    "    start_mem = df.memory_usage().sum() / 1024**2    \n",
    "    for col in df.columns:\n",
    "        col_type = df[col].dtypes\n",
    "        if col_type in numerics:\n",
    "            c_min = df[col].min()\n",
    "            c_max = df[col].max()\n",
    "            if str(col_type)[:3] == 'int':\n",
    "                if c_min > np.iinfo(np.int8).min and c_max < np.iinfo(np.int8).max:\n",
    "                    df.loc[:,col] = df[col].astype(np.int8)\n",
    "                elif c_min > np.iinfo(np.int16).min and c_max < np.iinfo(np.int16).max:\n",
    "                    df.loc[:,col] = df[col].astype(np.int16)\n",
    "                elif c_min > np.iinfo(np.int32).min and c_max < np.iinfo(np.int32).max:\n",
    "                    df.loc[:,col] = df[col].astype(np.int32)\n",
    "                elif c_min > np.iinfo(np.int64).min and c_max < np.iinfo(np.int64).max:\n",
    "                    df.loc[:,col] = df[col].astype(np.int64)  \n",
    "            else:\n",
    "                if c_min > np.finfo(np.float16).min and c_max < np.finfo(np.float16).max:\n",
    "                    df.loc[:,col] = df[col].astype(np.float16)\n",
    "                elif c_min > np.finfo(np.float32).min and c_max < np.finfo(np.float32).max:\n",
    "                    df.loc[:,col] = df[col].astype(np.float32)\n",
    "                else:\n",
    "                    df.loc[:,col] = df[col].astype(np.float64)    \n",
    "    end_mem = df.memory_usage().sum() / 1024**2\n",
    "    if verbose: print('Mem. usage decreased to {:5.2f} Mb ({:.1f}% reduction)'.format(end_mem, 100 * (start_mem - end_mem) / start_mem))\n",
    "    return df"
   ]
  },
  {
   "cell_type": "code",
   "execution_count": null,
   "metadata": {},
   "outputs": [],
   "source": [
    "def strp_rename_df(df):\n",
    "    df=df.apply(lambda x: x.strip() if type(x)==str else x).rename(columns=lambda x: x.strip())\n",
    "    return df"
   ]
  },
  {
   "cell_type": "code",
   "execution_count": null,
   "metadata": {},
   "outputs": [],
   "source": [
    "def strp_by_col(df,col):#col is with string notation\n",
    "    df[col]=df[col].apply(lambda x: x.strip() if type(x)==str else x)\n",
    "    return df"
   ]
  },
  {
   "cell_type": "code",
   "execution_count": null,
   "metadata": {},
   "outputs": [],
   "source": [
    "def unique_values(series):\n",
    "    print(series.nunique())\n",
    "    print(series.value_counts())\n",
    "    print(series.value_counts().sum())\n",
    "    print(len(series))\n",
    "    return"
   ]
  },
  {
   "cell_type": "code",
   "execution_count": null,
   "metadata": {},
   "outputs": [],
   "source": [
    "ltr_chars = string.ascii_letters\n",
    "punct_chars = string.punctuation\n",
    "punct_chars_dollars = punct_chars[:13]+punct_chars[15:]\n",
    "def clean_ints(entry,ltr_chars=ltr_chars,punct_chars=punct_chars):\n",
    "    proxies = ['!' for ltr in ltr_chars]\n",
    "    proxy_chars = ''.join(map(str,proxies))\n",
    "    puncts = ['!' for p in punct_chars]\n",
    "    proxy_puncts = ''.join(map(str,puncts))\n",
    "    ltr_cleaner = str.maketrans(ltr_chars,proxy_chars)\n",
    "    entry_ltr = entry.translate(ltr_cleaner)\n",
    "    punct_cleaner = str.maketrans(punct_chars,proxy_puncts)\n",
    "    entry_clean = entry_ltr.translate(punct_cleaner)\n",
    "    entry_clean = entry_clean.replace('!','')\n",
    "    return entry_clean"
   ]
  },
  {
   "cell_type": "code",
   "execution_count": null,
   "metadata": {},
   "outputs": [],
   "source": [
    "def str_to_int(db,col):#col is WITH string notation\n",
    "    db[col]=db[col].apply(lambda x: x.strip() if type(x)==str else x)\n",
    "    db[col]=db[col].apply(lambda x: x.lstrip('0') if type(x)==str else x)\n",
    "    db[col]=db[col].apply(lambda x: x.rstrip() if type(x)==str else x)\n",
    "    db[col]=db[col].apply(lambda x: clean_ints(x) if type(x)==str else x)\n",
    "    db[col]=db[col].apply(lambda x: x if type(x)==int else int(x) if x.isdigit() else 0)\n",
    "    #db.dropna(inplace=True)\n",
    "    return db"
   ]
  },
  {
   "cell_type": "code",
   "execution_count": null,
   "metadata": {},
   "outputs": [],
   "source": [
    "ltr_chars = string.ascii_letters\n",
    "punct_chars = string.punctuation\n",
    "punct_chars_dollars = punct_chars[:13]+punct_chars[15:]\n",
    "def clean_money(entry,ltr_chars=ltr_chars,punct_chars=punct_chars_dollars):\n",
    "    entry=str(entry)\n",
    "    proxies = ['!' for ltr in ltr_chars]\n",
    "    proxy_chars = ''.join(map(str,proxies))\n",
    "    puncts = ['!' for p in punct_chars]\n",
    "    proxy_puncts = ''.join(map(str,puncts))\n",
    "    ltr_cleaner = str.maketrans(ltr_chars,proxy_chars)\n",
    "    entry_ltr = entry.translate(ltr_cleaner)\n",
    "    punct_cleaner = str.maketrans(punct_chars,proxy_puncts)\n",
    "    entry_clean = entry_ltr.translate(punct_cleaner)\n",
    "    entry_clean = entry_clean.replace('!','')\n",
    "    return entry_clean"
   ]
  },
  {
   "cell_type": "code",
   "execution_count": null,
   "metadata": {},
   "outputs": [],
   "source": [
    "def str_to_money(db,col):#col is with string notation\n",
    "    db[col]=db[col].apply(lambda x: x.strip() if type(x)==str else x)\n",
    "    db[col]=db[col].apply(lambda x: x.lstrip('0') if type(x)==str else x)\n",
    "    db[col]=db[col].apply(lambda x: x.rstrip() if type(x)==str else x)\n",
    "    db[col]=db[col].apply(lambda x: clean_money(x))\n",
    "    db[col]=db[col].apply(lambda x: pd.to_numeric(x,downcast='float'))\n",
    "    return db"
   ]
  },
  {
   "cell_type": "code",
   "execution_count": null,
   "metadata": {},
   "outputs": [],
   "source": [
    "ltr_chars = string.ascii_letters\n",
    "punct_chars = string.punctuation\n",
    "punct_chars_date = punct_chars[:6]+punct_chars[7:12]+punct_chars[15:]\n",
    "def clean_date(entry,ltr_chars=ltr_chars,punct_chars=punct_chars_date):\n",
    "    proxies = ['!' for ltr in ltr_chars]\n",
    "    proxy_chars = ''.join(map(str,proxies))\n",
    "    puncts = ['!' for p in punct_chars]\n",
    "    proxy_puncts = ''.join(map(str,puncts))\n",
    "    ltr_cleaner = entry.maketrans(ltr_chars,proxy_chars)\n",
    "    entry_ltr = entry.translate(ltr_cleaner)\n",
    "    punct_cleaner = entry_ltr.maketrans(punct_chars,proxy_puncts)\n",
    "    entry_clean = entry_ltr.translate(punct_cleaner)\n",
    "    entry_clean = entry_clean.replace('!','')\n",
    "    return entry_clean\n",
    "    "
   ]
  },
  {
   "cell_type": "code",
   "execution_count": null,
   "metadata": {},
   "outputs": [],
   "source": [
    "def date_format_MN(db,name):\n",
    "    db[name]=db[name].apply(lambda x: x.replace('.0 AM',''))\n",
    "    db[name]=db[name].apply(lambda x: x.replace('.0 PM',''))\n",
    "    db[name]=db[name].apply(lambda x: x.rstrip())\n",
    "    db[name]=db[name].apply(lambda x: x.lstrip())\n",
    "    db=db[db[name]!='?']\n",
    "    db[name]=db[name].apply(lambda x: dt.strptime(str(x),'%b %d, %Y %I:%M:%S'))\n",
    "    db[name]=db[name].apply(lambda x: x.strftime('%m/%d/%Y'))\n",
    "    return db"
   ]
  },
  {
   "cell_type": "code",
   "execution_count": null,
   "metadata": {},
   "outputs": [],
   "source": [
    "def date_format_CRM(db,name):\n",
    "    db[name]=db[name].apply(lambda x: x.rstrip() if x != '?' else x)\n",
    "    db[name]=db[name].apply(lambda x: x.lstrip() if x != '?' else x)\n",
    "    db[name]=db[name].apply(lambda x: dt.strptime(str(x),'%m/%d/%Y') if x != '?' else x)\n",
    "    db[name]=db[name].apply(lambda x: x.strftime('%m/%d/%Y') if x != '?' else x)\n",
    "    return db"
   ]
  },
  {
   "cell_type": "code",
   "execution_count": null,
   "metadata": {},
   "outputs": [],
   "source": [
    "def date_format_CRM_date(db,name):\n",
    "    db[name]=db[name].apply(lambda x: x.rstrip() if x != '?' else x)\n",
    "    db[name]=db[name].apply(lambda x: x.lstrip() if x != '?' else x)\n",
    "    db[name]=db[name].apply(lambda x: dt.strptime(str(x),'%b %d, %Y') if x != '?' else x)\n",
    "    db[name]=db[name].apply(lambda x: x.strftime('%m/%d/%Y') if x != '?' else x)\n",
    "    return db"
   ]
  },
  {
   "cell_type": "code",
   "execution_count": null,
   "metadata": {},
   "outputs": [],
   "source": [
    "def date_format_line(db,name):\n",
    "    db[name]=db[name].apply(lambda x: x.rstrip())\n",
    "    db[name]=db[name].apply(lambda x: x.lstrip())\n",
    "    db[name]=db[name].apply(lambda x: clean_date(x))\n",
    "    db[name]=db[name].apply(lambda x: dt.strptime(str(x),'%Y%m%d').strftime('%m/%d/%Y') if x != '' else x)\n",
    "    db[name]=db[name].apply(lambda x: pd.to_datetime(str(x), format='%m/%d/%Y') if x != '' else x)\n",
    "    return db"
   ]
  },
  {
   "cell_type": "code",
   "execution_count": null,
   "metadata": {},
   "outputs": [],
   "source": []
  },
  {
   "cell_type": "code",
   "execution_count": null,
   "metadata": {},
   "outputs": [],
   "source": []
  },
  {
   "cell_type": "code",
   "execution_count": null,
   "metadata": {},
   "outputs": [],
   "source": []
  },
  {
   "cell_type": "code",
   "execution_count": null,
   "metadata": {},
   "outputs": [],
   "source": []
  }
 ],
 "metadata": {
  "kernelspec": {
   "display_name": "Python 3 (ipykernel)",
   "language": "python",
   "name": "python3"
  },
  "language_info": {
   "codemirror_mode": {
    "name": "ipython",
    "version": 3
   },
   "file_extension": ".py",
   "mimetype": "text/x-python",
   "name": "python",
   "nbconvert_exporter": "python",
   "pygments_lexer": "ipython3",
   "version": "3.9.7"
  }
 },
 "nbformat": 4,
 "nbformat_minor": 4
}
